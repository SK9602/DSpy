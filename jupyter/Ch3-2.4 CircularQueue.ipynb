{
 "cells": [
  {
   "cell_type": "markdown",
   "id": "4b088d00-7e76-46bd-a014-8fa67c0916a4",
   "metadata": {},
   "source": [
    "One thing I do know, I was blind but now I see. (John 9:25b)\n",
    "\n",
    "-------\n",
    "<img src=\"https://github.com/idebtor/DSpy/blob/6b3676c3de29f85d2e7f30679676d1fd96d88b17/images/WelcomeToDataStructures.jpg?raw=true\" width=1000>\n",
    "\n",
    "__NOTE:__ The following materials have been compiled and adapted from the numerous sources including my own. Please help me to keep this tutorial up-to-date by reporting any issues or questions. Send any comments or criticisms to `idebtor@gmail.com` Your assistances and comments will be appreciated.\n",
    "\n",
    "--------"
   ]
  },
  {
   "cell_type": "markdown",
   "id": "c3c97008-b602-4799-8312-4d946af6fe41",
   "metadata": {},
   "source": [
    "<b style=\"font-size:30px\">  Chapter 3. Linear Data Structures (선형 자료구조) </b>\n",
    "\n",
    ": 선형 자료구조란 무엇인가 (스택,큐,리스트 등)  \n",
    "\n",
    "--------------\n",
    "제 3장에서는 선형 자료구조에 대해 알아봅니다. 선형 자료구조란 무엇이며, 자료구조에 사용되는 대표적인 선형 자료구조들을 배우고 간단한 실습을 통해 구현해보며 익히게 됩니다. 자료구조의 기초가 되며, 이후 운영체제, 알고리즘, 네트워크 등 모든 영역에 활용되는 것 이므로 적극적인 자세로 재밌게 배우면 좋겠습니다!"
   ]
  },
  {
   "cell_type": "markdown",
   "id": "559709b5-b925-4d6c-ab39-89994abaa78c",
   "metadata": {},
   "source": [
    "# Exercise - Circular Queue\n",
    "\n",
    "## Problem 1 \n",
    "다음은 `QueueCircular` 클래스를 테스트할 수 있는 간단한 Code snippet입니다. 같은 결과를 얻을 수 있도록 `QueueCircular`클래스를 완성하십시오. 특히 다음 사항을 유의하십시오. \n",
    "\n",
    "- 코드 디버깅을 할 때, Queue의 `items`, `front`와 `back`을 출력을 해보면 도움이 됩니다. \n",
    "\n",
    "### Step 1\n",
    "- Queue가 full일 때에는 더 이상 `enqueue()`를 할 수 없고, 또한 Queue가 empty인데 `dequeue()`를 시도한다면, 에러 메시지를 출력해야 합니다. 이러한 경우, Sample Run과 같이 `front`와 `back` 현재 값을 제시하십시오. \n",
    "\n",
    "\n",
    "- 예를 들면, 아래와 같습니다. \n",
    "```\n",
    "The circular queue is empty[-1:-1].\n",
    "The circular queue is full[0:3].\n",
    "```\n",
    "\n",
    "### Step 2\n",
    "\n",
    "- `size()` 메소드를 정의하십시오. 이 부분을 정확히 이해하면 전체 코딩에 도움이 됩니다. \n",
    "\n",
    "### Step 3\n",
    "- 출력을 위해 `__repr__()` 메소드를 재정의하십시오.  \n",
    "- 출력할 때, 요소들은 쉼표(,)로 분리되어 있는 것에 유의하십시오. Extra 쉼표가 발생하지 않도록 하십시오. 예를 들면, 아래와 같이 출력이 되어야 합니다. \n",
    "```\n",
    "QueueCircular([12, 17, 25, 11])\n",
    "```"
   ]
  },
  {
   "cell_type": "markdown",
   "id": "c8cc667a-5fe4-4a62-b73f-2394b43587ad",
   "metadata": {},
   "source": [
    "__Sample Run 1:__\n",
    "```\n",
    "if __name__ == '__main__':\n",
    "    q = QueueCircular(4)\n",
    "    print(q)\n",
    "    q.dequeue()\n",
    "    q.enqueue(12)  \n",
    "    q.enqueue(17)  \n",
    "    q.enqueue(25)  \n",
    "    q.enqueue(11)  \n",
    "    q.enqueue(30)\n",
    "    print('size:', q.size())\n",
    "    print(q)\n",
    "    q.dequeue()  \n",
    "    q.dequeue()  \n",
    "    print('size:', q.size())\n",
    "    print(q)\n",
    "```"
   ]
  },
  {
   "cell_type": "markdown",
   "id": "eda27f97-875e-49e9-81c7-cfe916749303",
   "metadata": {},
   "source": [
    "__Expected Output:__\n",
    "```\n",
    "QueueCircular([])\n",
    "The circular queue is empty[-1:-1].\n",
    "The circular queue is full[0:3].\n",
    "size: 4\n",
    "QueueCircular([12, 17, 25, 11])\n",
    "size: 2\n",
    "QueueCircular([25, 11])\n",
    "```"
   ]
  },
  {
   "cell_type": "markdown",
   "id": "e3b5798a-c39a-44d2-9a8e-395a8361db67",
   "metadata": {},
   "source": [
    "__Sample Run 2:__\n",
    "```\n",
    "if __name__ == '__main__':\n",
    "    q = QueueCircular(5)  \n",
    "    print(q)\n",
    "    for i in range(5, 10):\n",
    "        q.enqueue(i)  \n",
    "    print(q)\n",
    "    q.dequeue()  \n",
    "    q.dequeue() \n",
    "    print(q)\n",
    "    for i in range(3):\n",
    "        q.enqueue(i)  \n",
    "    print(q)\n",
    "```"
   ]
  },
  {
   "cell_type": "markdown",
   "id": "98e309b2-0222-407b-97e6-da3ce98514c9",
   "metadata": {},
   "source": [
    "__Expected Output:__\n",
    "```\n",
    "QueueCircular([])\n",
    "QueueCircular([5, 6, 7, 8, 9])\n",
    "size: 3\n",
    "QueueCircular([7, 8, 9])\n",
    "The circular queue is full[2:1].\n",
    "The circular queue is full[2:1].\n",
    "size: 5\n",
    "QueueCircular([7, 8, 9, 0, 1])\n",
    "\n",
    "```\n",
    "\n",
    "__Solution__:"
   ]
  },
  {
   "cell_type": "code",
   "execution_count": null,
   "id": "90caba36-a5d0-4899-8ce3-338eb773a7b0",
   "metadata": {},
   "outputs": [],
   "source": [
    "#%%writefile queueCircular.py\n",
    "\n",
    "class QueueCircular:\n",
    "    def __init__(self, size):\n",
    "        self.items = [None] * size\n",
    "        self.MAX = size\n",
    "        self.front = -1\n",
    "        self.back = -1\n",
    "        \n",
    "    def enqueue(self, item): # if not full\n",
    "        pass\n",
    "\n",
    "    def dequeue(self): # if not empty\n",
    "        pass\n",
    "\n",
    "    def is_empty():\n",
    "        return self.front == -1\n",
    "\n",
    "    def is_full():\n",
    "        return None\n",
    "    \n",
    "    def size(self):\n",
    "        pass\n",
    "\n",
    "    def __repr__(self):\n",
    "        pstr = 'QueueCircular(['\n",
    "        if self.front == -1:\n",
    "            return pstr + '])'\n",
    "        # your code here\n",
    "        return pstr + '])'"
   ]
  },
  {
   "cell_type": "code",
   "execution_count": null,
   "id": "cdaa6939-a52b-469b-8819-8bcd924f32f9",
   "metadata": {},
   "outputs": [],
   "source": [
    "if __name__ == '__main__':\n",
    "    q = QueueCircular(4)\n",
    "    print(q)\n",
    "    q.dequeue()\n",
    "    q.enqueue(12)  \n",
    "    q.enqueue(17)  \n",
    "    q.enqueue(25)  \n",
    "    q.enqueue(11)  \n",
    "    q.enqueue(30)\n",
    "    print('size:', q.size())\n",
    "    print(q)\n",
    "    q.dequeue()  \n",
    "    q.dequeue()  \n",
    "    print('size:', q.size())\n",
    "    print(q)"
   ]
  },
  {
   "cell_type": "code",
   "execution_count": null,
   "id": "0b233aeb-daaa-4da6-b17e-ecb4e2cb99f7",
   "metadata": {},
   "outputs": [],
   "source": [
    "if __name__ == '__main__':\n",
    "    q = QueueCircular(5)  \n",
    "    print(q)\n",
    "    for i in range(5, 10):\n",
    "        q.enqueue(i)  \n",
    "    print(q)\n",
    "    q.dequeue()  \n",
    "    q.dequeue() \n",
    "    print('size:', q.size())\n",
    "    print(q)\n",
    "    for i in range(4):\n",
    "        q.enqueue(i)  \n",
    "    print('size:', q.size())\n",
    "    print(q)"
   ]
  },
  {
   "cell_type": "markdown",
   "id": "d6d98059-a600-4c93-9221-91bd8c90120a",
   "metadata": {},
   "source": [
    "## Problem 2 \n",
    "\n",
    "### Step 1 \n",
    "다음은 `QueueCircular` 클래스를 수정하여, 파이썬 `deque`의 `maxlen` 특성을 일부분 살릴 수 있는 `QueueMaxlen` 클래스를 작성하십시오. \n",
    "\n",
    "- `QueueMaxlen`는 항상 `maxlen`을 유지하며, `enqueue()`메소드에서 overflow가 일어나려고 할 때, `front`에 있는 가장 오래된 요소를 삭제하여 입력되는 최근의 요소들을 항상 입력되도록 합니다. 이러한 큐에서는 overflow가 일어나지 않습니다. \n",
    "- Default `maxlen = 3` 으로 설정합니다. \n"
   ]
  },
  {
   "cell_type": "markdown",
   "id": "1e761d84-6110-45e5-a0e3-7099cedef2b4",
   "metadata": {},
   "source": [
    "__Sample Run:__\n",
    "```\n",
    "if __name__ == '__main__':\n",
    "    four = QueueMaxlen(maxlen = 4)\n",
    "    print(four)\n",
    "    for i in range(5, 10):        # Discard 5      \n",
    "        four.enqueue(i)\n",
    "    print(four)\n",
    "    four.enqueue(1)\n",
    "    four.enqueue(2)\n",
    "    print(four)\n",
    "    four.dequeue()\n",
    "    print(four)\n",
    "    print(four.maxlen)\n",
    "```\n",
    "\n",
    "__Expected Output:__\n",
    "```\n",
    "QueueMaxlen([])\n",
    "QueueMaxlen([6, 7, 8, 9])\n",
    "QueueMaxlen([8, 9, 1, 2])\n",
    "QueueMaxlen([9, 1, 2])\n",
    "4\n",
    "```"
   ]
  },
  {
   "cell_type": "code",
   "execution_count": null,
   "id": "446af8e9-6e4a-4d71-9311-de9e2b500eb2",
   "metadata": {},
   "outputs": [],
   "source": [
    "#%%writefile queueMaxlen.py\n",
    "\n",
    "class QueueMaxlen:\n",
    "    def __init__(self, maxlen = 3):\n",
    "        # your code here\n",
    "        self.front = -1\n",
    "        self.back = -1\n",
    "        \n",
    "    def enqueue(self, item): # if not full\n",
    "        pass\n",
    "\n",
    "    def dequeue(self): # if not empty\n",
    "        pass\n",
    "\n",
    "    def is_empty():\n",
    "        return self.front == -1\n",
    "\n",
    "    def is_full():\n",
    "        pass\n",
    "    \n",
    "    def size(self):\n",
    "        pass\n",
    "\n",
    "    def __repr__(self):            \n",
    "        pstr = 'QueueMaxlen(['\n",
    "        # your code here\n",
    "        return pstr + '])'\n"
   ]
  },
  {
   "cell_type": "code",
   "execution_count": null,
   "id": "2ce4023c-5a20-4cb7-8dbf-802901bb8dc3",
   "metadata": {},
   "outputs": [],
   "source": [
    "if __name__ == '__main__':\n",
    "    four = QueueMaxlen(maxlen = 4)\n",
    "    print(four)\n",
    "    for i in range(5, 10):        # Discard 5      \n",
    "        four.enqueue(i)\n",
    "    print(four)\n",
    "    four.enqueue(1)\n",
    "    four.enqueue(2)\n",
    "    print(four)\n",
    "    four.dequeue()\n",
    "    print(four)\n",
    "    print(four.maxlen)"
   ]
  },
  {
   "cell_type": "markdown",
   "id": "74f53252-3da0-44ff-b235-23f51d5b71b5",
   "metadata": {},
   "source": [
    "### Step 2: \n",
    "\n",
    "`QueueMaxlen` 클래스의 출력 기능을 조금 더 확장하여, 만약 요소가 `str` type일 경우 큰 따옴표(\")을 추가하십시오. \n",
    " \n",
    " __Sample Run:__\n",
    "```\n",
    "if __name__ == '__main__':\n",
    "    sites = (\"google.com\", \"yahoo.com\", \"bing.com\", \"John\")\n",
    "    pages = QueueMaxlen(maxlen = 3)     # Discard \"google.com\"\n",
    "    for site in sites:\n",
    "        pages.enqueue(site)\n",
    "    print(pages)\n",
    "    pages.enqueue(316)\n",
    "    pages.enqueue(\"love\")\n",
    "    pages.enqueue(2819)\n",
    "    print(pages)\n",
    "    print(pages.maxlen)\n",
    "```\n",
    "\n",
    "__Expected Output:__\n",
    "```\n",
    "QueueMaxlen([\"yahoo.com\", \"bing.com\", \"John\"])\n",
    "QueueMaxlen([316, \"love\", 2819])\n",
    "3\n",
    "```"
   ]
  },
  {
   "cell_type": "code",
   "execution_count": null,
   "id": "4c848aa1-674c-4012-8f1e-fb778c32b9a8",
   "metadata": {},
   "outputs": [],
   "source": [
    "if __name__ == '__main__':\n",
    "    sites = (\"google.com\", \"yahoo.com\", \"bing.com\", \"John\")\n",
    "    pages = QueueMaxlen(maxlen = 3)     # Discard \"google.com\"\n",
    "    for site in sites:\n",
    "        pages.enqueue(site)\n",
    "    print(pages)\n",
    "    pages.enqueue(316)\n",
    "    pages.enqueue(\"love\")\n",
    "    pages.enqueue(2819)\n",
    "    print(pages)\n",
    "    print(pages.maxlen)"
   ]
  },
  {
   "cell_type": "markdown",
   "id": "6f956637-82a3-4e47-a508-d5d1eab44072",
   "metadata": {},
   "source": [
    "## Problem 3 - Subclass `QueueMaxlenSub`\n",
    "\n",
    "다음은 `QueueCircular` 클래스를 Superclass로 설정하고, `QueueMaxlenSub` 클래스를 Subclass로 만드십시오. 그리고, 가능한 OOP의 inhertance특성을 모두 활용하고, 반드시 필요한 메소드들만 여기서 구현합니다.  모든 기능은 Problem 2와 같고, 테스트 스크립트도 같지만(물론, 클래스 이름은 다름), 코딩은 좀 더 간단해지는 것을 확인하십시오.  \n",
    "\n",
    "- 여기서 클래스 이름은 `QueueMaxlenSub`인 것에 유의하십시오. \n"
   ]
  },
  {
   "cell_type": "code",
   "execution_count": null,
   "id": "6547abde-bb46-4c6e-9521-c84819f4c042",
   "metadata": {},
   "outputs": [],
   "source": [
    "# your subclass 'QueueMaxlenSub' here"
   ]
  },
  {
   "cell_type": "markdown",
   "id": "b3d021ab-6a41-46ba-8a4a-bdaeffa8c3b7",
   "metadata": {},
   "source": [
    "### Test 1"
   ]
  },
  {
   "cell_type": "code",
   "execution_count": null,
   "id": "46b5e783-154e-496c-9426-f7cfe4c8ff76",
   "metadata": {},
   "outputs": [],
   "source": [
    "if __name__ == '__main__':\n",
    "    four = QueueMaxlenSub(maxlen = 4)\n",
    "    print(four)\n",
    "    for i in range(5, 10):        # Discard 5      \n",
    "        four.enqueue(i)\n",
    "    print(four)\n",
    "    four.enqueue(1)\n",
    "    four.enqueue(2)\n",
    "    print(four)\n",
    "    four.dequeue()\n",
    "    print(four)\n",
    "    print(four.maxlen)"
   ]
  },
  {
   "cell_type": "markdown",
   "id": "b8c4937e-52d3-410a-8eff-58eaa34d9741",
   "metadata": {},
   "source": [
    "### Test 2"
   ]
  },
  {
   "cell_type": "code",
   "execution_count": null,
   "id": "0f22c4d1-9245-4b78-89e6-7e48ad8746b1",
   "metadata": {},
   "outputs": [],
   "source": [
    "if __name__ == '__main__':\n",
    "    sites = (\"google.com\", \"yahoo.com\", \"bing.com\", \"John\")\n",
    "    pages = QueueMaxlenSub(maxlen = 3)     # Discard \"google.com\"\n",
    "    for site in sites:\n",
    "        pages.enqueue(site)\n",
    "    print(pages)\n",
    "    pages.enqueue(316)\n",
    "    pages.enqueue(\"love\")\n",
    "    pages.enqueue(2819)\n",
    "    print(pages)\n",
    "    print(pages.maxlen)"
   ]
  },
  {
   "cell_type": "markdown",
   "id": "bb6227d6-d395-4417-945d-8439eb354d2b",
   "metadata": {},
   "source": [
    "# Applications of Circular Queue\n",
    "- CPU scheduling\n",
    "- Memory management\n",
    "- Traffic Management"
   ]
  },
  {
   "cell_type": "markdown",
   "id": "6d1cfe4d-5bc3-4d32-a18f-3a87c3c21578",
   "metadata": {},
   "source": [
    "# Reference\n",
    "- Circular Queue Data Structure, [Here](https://www.programiz.com/dsa/circular-queue)"
   ]
  },
  {
   "cell_type": "markdown",
   "id": "5c2fb4d8-074d-44b9-9c2b-acfcd05bb7d7",
   "metadata": {},
   "source": [
    "------\n",
    "또 어려서부터 성경을 알았나니 성경은 능히 너로 하여금 그리스도 예수 안에 있는 믿음으로 말미암아 구원에 이르는 지혜가 있게 하느니라 모든 성경은 하나님의 감동으로 된 것으로 교훈과 책망과 바르게 함과 의로 교육하기에 유익하니 이는 하나님의 사람으로 온전하게 하며 모든 선한 일을 행할 능력을 갖추게 하려 함이라 (딤후3:15-17)"
   ]
  }
 ],
 "metadata": {
  "kernelspec": {
   "display_name": "Python 3 (ipykernel)",
   "language": "python",
   "name": "python3"
  },
  "language_info": {
   "codemirror_mode": {
    "name": "ipython",
    "version": 3
   },
   "file_extension": ".py",
   "mimetype": "text/x-python",
   "name": "python",
   "nbconvert_exporter": "python",
   "pygments_lexer": "ipython3",
   "version": "3.8.12"
  },
  "toc-autonumbering": true
 },
 "nbformat": 4,
 "nbformat_minor": 5
}
